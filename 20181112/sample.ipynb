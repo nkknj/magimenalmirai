{
 "cells": [
  {
   "cell_type": "code",
   "execution_count": 1,
   "metadata": {},
   "outputs": [],
   "source": [
    "import numpy as np\n",
    "import pandas as pd\n",
    "import matplotlib.pyplot as plt\n",
    "import math"
   ]
  },
  {
   "cell_type": "markdown",
   "metadata": {},
   "source": [
    "#### Preparation"
   ]
  },
  {
   "cell_type": "code",
   "execution_count": 2,
   "metadata": {},
   "outputs": [],
   "source": [
    "def Combination(n, r):\n",
    "    return math.factorial(n)//math.factorial(n-r)//math.factorial(r)\n",
    "\n",
    "def Binomial(param):\n",
    "    N, p=param\n",
    "    return [Combination(N, k)*pow(p, k)*pow(1-p, N-k) for k in range(N+1)]\n",
    "\n",
    "def Binomials(list_n_p):\n",
    "    #list_n_p: 2-dimensioin vector (shape=(n, 2))\n",
    "    #list_n_p[i]: i-th setting for Binomial distribution.\n",
    "    #list_n_p[i][0]: n of i-th Binomial dist.\n",
    "    #list_n_p[i][1]: p of i-th Binomial dist.\n",
    "    \n",
    "    list_n_p=[list_n_p[i] for i in range(len(list_n_p)) if list_n_p[i][0]!=0]\n",
    "\n",
    "    hist=Binomial(list_n_p[0])\n",
    "    for i in range(len(list_n_p)-1):\n",
    "        pre_prob=hist\n",
    "        add_prob=Binomial(list_n_p[i+1])\n",
    "\n",
    "        l=np.max([len(pre_prob), len(add_prob)])\n",
    "        mx=len(pre_prob)+len(add_prob)-2\n",
    "\n",
    "        #probability map\n",
    "        prob_map=np.zeros((l, l))\n",
    "        prob_map[:len(pre_prob), :len(add_prob)]=np.dot(np.array(pre_prob).reshape(-1, 1), np.array(add_prob).reshape(1, -1))\n",
    "\n",
    "        #upper-left part of matrix\n",
    "        hist_former=[np.sum([prob_map[i, s-i] for i in range(s+1)]) for s in range(l)]\n",
    "\n",
    "        #lower-right part of matrix\n",
    "        hist_latter=[np.sum([prob_map[-1-i, l-(minus-i)-1] for i in range(minus+1)]) for minus in range(l-1)]\n",
    "\n",
    "        hist=hist_former+hist_latter[::-1]\n",
    "        hist=hist[:mx+1]\n",
    "        \n",
    "    return hist\n",
    "\n",
    "def Sum_Prob(list_A, list_B):\n",
    "    l=np.max([len(list_A), len(list_B)])\n",
    "    mx=len(list_A)+len(list_B)\n",
    "    \n",
    "    prob_map=np.zeros((l, l))\n",
    "    prob_map[:len(list_A), :len(list_B)]=np.dot(np.array(list_A).reshape(-1, 1), np.array(list_B).reshape(1, -1))\n",
    "    \n",
    "    hist_former=[np.sum([prob_map[i, s-i] for i in range(s+1)]) for s in range(l)]\n",
    "    hist_latter=[np.sum([prob_map[-1-i, l-(minus-i)-1] for i in range(minus+1)]) for minus in range(l-1)]\n",
    "    \n",
    "    hist=hist_former+hist_latter[::-1]\n",
    "    hist=hist[:mx+1]\n",
    "    \n",
    "    return hist\n",
    "\n",
    "class test:\n",
    "    def __init__(self, n_total, distribution):\n",
    "        self.n_total=n_total\n",
    "        self.distribution=distribution\n",
    "        self.n_a=np.nan\n",
    "        self.n_b=np.nan\n",
    "        self.KLd=np.nan\n",
    "        self.edit_distribution()\n",
    "        return\n",
    "    \n",
    "    def edit_distribution(self):\n",
    "        total=np.sum(self.distribution)\n",
    "        self.distribution=[self.distribution[i]/total for i in range(len(self.distribution))]\n",
    "    \n",
    "    def calc_n(self, p_a, p_b, detail=False):\n",
    "        temp_n_a=0\n",
    "        while temp_n_a<=self.n_total:\n",
    "            temp_n_b=round(self.n_total-temp_n_a)\n",
    "            temp_dist=np.zeros(self.n_total+1)\n",
    "            for i in range(p_a.shape[0]):\n",
    "                temp_dist+=np.array(Binomials([[temp_n_a, p_a[i]], [temp_n_b, p_b[i]]]))/p_a.shape[0]\n",
    "                \n",
    "            temp_dist=self.convert_dist2percentage(temp_dist)\n",
    "            if np.abs(mean_dist(np.arange(101), temp_dist)-mean_dist(np.arange(0, 100, 5), self.distribution))<20:\n",
    "                temp_dist_5=[np.sum(temp_dist[:6])]+[np.sum(temp_dist[5*(i+1)+1:5*(i+2)+1]) for i in range(19)]\n",
    "                temp_KLd=KLdivergence(temp_dist_5, self.distribution)\n",
    "                if detail==True:\n",
    "                    plt.plot(np.arange(len(temp_dist_5))*5+5, temp_dist_5, label='temp_dist')\n",
    "                    plt.plot(np.arange(len(temp_dist_5))*5+5, self.distribution, label='self.distribution')\n",
    "                    plt.title('n_a='+str(temp_n_a)+', n_b='+str(temp_n_b)+', KLd='+str(temp_KLd))\n",
    "                    plt.show()\n",
    "\n",
    "                if self.KLd>temp_KLd or np.isnan(self.KLd):\n",
    "                    self.KLd=temp_KLd\n",
    "                    self.n_a=temp_n_a\n",
    "                    \n",
    "            else:\n",
    "                if detail==True:\n",
    "                    print('Skip: n_a='+str(temp_n_a)+', n_b='+str(temp_n_b))\n",
    "                \n",
    "            temp_n_a=round(temp_n_a+1)\n",
    "                \n",
    "        self.n_b=self.n_total-self.n_a\n",
    "        return\n",
    "    \n",
    "    def convert_dist2percentage(self, dist):\n",
    "        percentage=[0 for i in range(101)]\n",
    "        for i in range(len(dist)):\n",
    "            percentage[round(100*i/(len(dist)-1))]+=dist[i]\n",
    "            \n",
    "        return percentage\n",
    "    \n",
    "def KLdivergence(p, q):\n",
    "    p_range=[p[i]>1e-12 for i in range(len(p))]\n",
    "    q_range=[q[i]>1e-12 for i in range(len(q))]\n",
    "    \n",
    "    double_true=np.sum([1 if p_range[i]==True and q_range[i]==True else 0 for i in range(len(p))])\n",
    "    if double_true>0:\n",
    "        out=np.sum([p[i]*np.log(p[i]/q[i]) if p_range[i]==True and q_range[i]==True else 0 for i in range(len(p))])\n",
    "    else:\n",
    "        out=np.inf\n",
    "        \n",
    "    return out\n",
    "\n",
    "def mean_dist(value, dist):\n",
    "    return np.dot(value, dist)"
   ]
  },
  {
   "cell_type": "markdown",
   "metadata": {},
   "source": [
    "#### Data preparation"
   ]
  },
  {
   "cell_type": "code",
   "execution_count": 3,
   "metadata": {},
   "outputs": [],
   "source": [
    "#data preparation\n",
    "\n",
    "rawdata=pd.read_csv('data/sample_distribution.csv', index_col=0)\n",
    "thrs=[5*i for i in range(20)]\n",
    "\n",
    "n_questions=[100, 50, 30, 30, 40]\n",
    "n_tests=len(n_questions)\n",
    "n_subjects=100\n",
    "subjects=np.zeros((2, n_subjects))"
   ]
  },
  {
   "cell_type": "markdown",
   "metadata": {},
   "source": [
    "#### (1) Calculate p_a from distribution['exam0']"
   ]
  },
  {
   "cell_type": "code",
   "execution_count": 4,
   "metadata": {},
   "outputs": [],
   "source": [
    "def dist2data(dist, thresholds):\n",
    "    output=np.array([])\n",
    "    i=0\n",
    "    while i<len(thresholds)-1:\n",
    "        if dist[i]!=0:\n",
    "            interval=(thresholds[i+1]-thresholds[i])/dist[i]\n",
    "            output=np.r_[output, np.arange(thresholds[i]+interval, thresholds[i+1]+interval, interval)]\n",
    "            \n",
    "        i+=1\n",
    "    return output"
   ]
  },
  {
   "cell_type": "code",
   "execution_count": 5,
   "metadata": {},
   "outputs": [],
   "source": [
    "subjects[0, :]=dist2data(np.array(rawdata.loc['exam0']), thrs)\n",
    "subjects[0, :]/=100"
   ]
  },
  {
   "cell_type": "markdown",
   "metadata": {},
   "source": [
    "#### (2) Calculate n_a, n_b and KL divergence for each k and decide k."
   ]
  },
  {
   "cell_type": "code",
   "execution_count": 6,
   "metadata": {
    "scrolled": false
   },
   "outputs": [
    {
     "name": "stdout",
     "output_type": "stream",
     "text": [
      "Calculation: k=0.4\n",
      "tests[1]: n_a=19, n_b=31, KLd=0.07051862322854846\n",
      "tests[2]: n_a=18, n_b=12, KLd=0.09610677830528232\n",
      "tests[3]: n_a=19, n_b=11, KLd=0.16822053964137743\n",
      "tests[4]: n_a=19, n_b=21, KLd=0.15326233787382407\n",
      "\n",
      "Calculation: k=0.5\n",
      "tests[1]: n_a=13, n_b=37, KLd=0.06463637859617347\n",
      "tests[2]: n_a=15, n_b=15, KLd=0.09679698263389093\n",
      "tests[3]: n_a=16, n_b=14, KLd=0.16493123276583527\n",
      "tests[4]: n_a=15, n_b=25, KLd=0.1427783581892589\n",
      "\n",
      "Calculation: k=0.6\n",
      "tests[1]: n_a=4, n_b=46, KLd=0.06086984932650339\n",
      "tests[2]: n_a=12, n_b=18, KLd=0.0953198995596042\n",
      "tests[3]: n_a=13, n_b=17, KLd=0.16350196731623778\n",
      "tests[4]: n_a=8, n_b=32, KLd=0.13279440803859335\n",
      "\n",
      "Calculation: k=0.7\n",
      "tests[1]: n_a=0, n_b=50, KLd=0.2184121139905782\n",
      "tests[2]: n_a=6, n_b=24, KLd=0.09600257982634174\n",
      "tests[3]: n_a=7, n_b=23, KLd=0.16232317488955234\n",
      "tests[4]: n_a=0, n_b=40, KLd=0.13275637941572044\n",
      "\n",
      "Calculation: k=0.8\n",
      "tests[1]: n_a=0, n_b=50, KLd=0.8637338663088325\n",
      "tests[2]: n_a=0, n_b=30, KLd=0.13691841637960955\n",
      "tests[3]: n_a=0, n_b=30, KLd=0.18728352476626814\n",
      "tests[4]: n_a=0, n_b=40, KLd=0.45602704138127004\n",
      "\n"
     ]
    }
   ],
   "source": [
    "for k in [0.4, 0.5, 0.6, 0.7, 0.8]:\n",
    "    print('Calculation: k='+str(k))\n",
    "    tests=[test(n_questions[i], np.array(rawdata.loc['exam'+str(i)])) for i in range(len(n_questions))]\n",
    "    tests[0].n_a=n_questions[0]\n",
    "    tests[0].n_b=0\n",
    "    \n",
    "    for i in range(n_tests-1):\n",
    "        subjects[1]=k*subjects[0]\n",
    "        tests[i+1].calc_n(subjects[0], subjects[1])\n",
    "        print('tests['+str(i+1)+']: n_a='+str(tests[i+1].n_a)+', n_b='+str(tests[i+1].n_b)+', KLd='+str(tests[i+1].KLd))\n",
    "        \n",
    "    print()"
   ]
  },
  {
   "cell_type": "markdown",
   "metadata": {},
   "source": [
    "#### (3) Get data with decided k"
   ]
  },
  {
   "cell_type": "code",
   "execution_count": 7,
   "metadata": {},
   "outputs": [],
   "source": [
    "k=0.6"
   ]
  },
  {
   "cell_type": "code",
   "execution_count": 8,
   "metadata": {},
   "outputs": [
    {
     "name": "stdout",
     "output_type": "stream",
     "text": [
      "tests[1]: n_a=4, n_b=46, KLd=0.06086984932650339\n",
      "tests[2]: n_a=12, n_b=18, KLd=0.0953198995596042\n",
      "tests[3]: n_a=13, n_b=17, KLd=0.16350196731623778\n",
      "tests[4]: n_a=8, n_b=32, KLd=0.13279440803859335\n"
     ]
    }
   ],
   "source": [
    "tests=[test(n_questions[i], np.array(rawdata.loc['exam'+str(i)])) for i in range(len(n_questions))]\n",
    "tests[0].n_a=n_questions[0]\n",
    "tests[0].n_b=0\n",
    "\n",
    "for i in range(n_tests-1):\n",
    "    subjects[1]=k*subjects[0]\n",
    "    tests[i+1].calc_n(subjects[0], subjects[1])\n",
    "    print('tests['+str(i+1)+']: n_a='+str(tests[i+1].n_a)+', n_b='+str(tests[i+1].n_b)+', KLd='+str(tests[i+1].KLd))"
   ]
  },
  {
   "cell_type": "markdown",
   "metadata": {},
   "source": [
    "#### (4) Estimate scores of all subjects."
   ]
  },
  {
   "cell_type": "code",
   "execution_count": 9,
   "metadata": {},
   "outputs": [],
   "source": [
    "result=np.zeros(np.sum(n_questions)+1)\n",
    "for i in range(n_subjects):\n",
    "    As=[[tests[j].n_a, subjects[0, i]] for j in range(n_tests)]\n",
    "    Bs=[[tests[j].n_b, subjects[1, i]] for j in range(n_tests)]\n",
    "    params=As+Bs\n",
    "    \n",
    "    subj_dist=Binomials(params)\n",
    "    result+=np.array(subj_dist)\n",
    "    \n",
    "result=n_subjects*result/np.sum(result)"
   ]
  },
  {
   "cell_type": "markdown",
   "metadata": {},
   "source": [
    "#### (5) display histgram"
   ]
  },
  {
   "cell_type": "code",
   "execution_count": 10,
   "metadata": {},
   "outputs": [
    {
     "data": {
      "image/png": "[encoded data removed]",
      "text/plain": [
       "<matplotlib.figure.Figure at 0x1805dcc1908>"
      ]
     },
     "metadata": {},
     "output_type": "display_data"
    }
   ],
   "source": [
    "plt.plot(np.arange(result.shape[0]), result)\n",
    "plt.xlabel('score')\n",
    "plt.ylabel('subject')\n",
    "plt.title('score distribution')\n",
    "plt.show()"
   ]
  },
  {
   "cell_type": "markdown",
   "metadata": {},
   "source": [
    "#### (6) Estimate the rank."
   ]
  },
  {
   "cell_type": "code",
   "execution_count": 11,
   "metadata": {},
   "outputs": [
    {
     "name": "stdout",
     "output_type": "stream",
     "text": [
      "Rank(score=150) = 64\n"
     ]
    }
   ],
   "source": [
    "X=150\n",
    "print('Rank(score='+str(X)+') = '+str(np.int(np.sum(result[X:]))+1))"
   ]
  }
 ],
 "metadata": {
  "kernelspec": {
   "display_name": "Python 3",
   "language": "python",
   "name": "python3"
  },
  "language_info": {
   "codemirror_mode": {
    "name": "ipython",
    "version": 3
   },
   "file_extension": ".py",
   "mimetype": "text/x-python",
   "name": "python",
   "nbconvert_exporter": "python",
   "pygments_lexer": "ipython3",
   "version": "3.6.4"
  }
 },
 "nbformat": 4,
 "nbformat_minor": 2
}

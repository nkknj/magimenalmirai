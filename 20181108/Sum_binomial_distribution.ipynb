{
 "cells": [
  {
   "cell_type": "code",
   "execution_count": 1,
   "metadata": {},
   "outputs": [],
   "source": [
    "import numpy as np\n",
    "import matplotlib.pyplot as plt\n",
    "import math"
   ]
  },
  {
   "cell_type": "code",
   "execution_count": 2,
   "metadata": {},
   "outputs": [],
   "source": [
    "def Combination(n, r):\n",
    "    return math.factorial(n)//math.factorial(n-r)//math.factorial(r)\n",
    "\n",
    "def Binomial(param):\n",
    "    N=param[0]\n",
    "    p=param[1]\n",
    "    return [Combination(N, k)*pow(p, k)*pow(1-p, N-k) for k in range(N+1)]\n",
    "\n",
    "def Sum_Binomial(na, pa, nb, pb):\n",
    "    A=Binomial([na, pa])\n",
    "    B=Binomial([nb, pb])\n",
    "    l=np.max([na, nb])\n",
    "    \n",
    "    #probability map\n",
    "    prob_map=np.zeros((l+1, l+1))\n",
    "    prob_map[:na+1, :nb+1]=np.dot(np.array(A).reshape(-1, 1), np.array(B).reshape(1, -1))\n",
    "    \n",
    "    #upper-left part of matrix\n",
    "    hist_former=[np.sum([prob_map[i, s-i] for i in range(s+1)]) for s in range(l+1)]\n",
    "    \n",
    "    #lower-right part of matrix\n",
    "    hist_latter=[np.sum([prob_map[-1-i, l-(minus-i)] for i in range(minus+1)]) for minus in range(l)]\n",
    "    \n",
    "    hist=hist_former+hist_latter[::-1]\n",
    "    return hist"
   ]
  },
  {
   "cell_type": "code",
   "execution_count": 3,
   "metadata": {},
   "outputs": [
    {
     "name": "stdout",
     "output_type": "stream",
     "text": [
      "mathmatical method: E(A+B)=E(A)+E(B)=13.6\n",
      "mathmatical method: V(A+B)=V(A)+V(B)=3.28\n",
      "computational method: E(A+B)=13.600000000000001\n",
      "computational method: V(A+B)=3.2799999999999727\n"
     ]
    },
    {
     "data": {
      "image/png": "[encoded data removed]",
      "text/plain": [
       "<matplotlib.figure.Figure at 0x16a1254d860>"
      ]
     },
     "metadata": {},
     "output_type": "display_data"
    }
   ],
   "source": [
    "#set parameters\n",
    "na, pa=10, 0.8\n",
    "nb, pb=8, 0.7\n",
    "\n",
    "#get Binomial distribution\n",
    "A=Binomial([na, pa])\n",
    "B=Binomial([nb, pb])\n",
    "\n",
    "#get E(A+B) and V(A+B) by mathmatical method\n",
    "print('mathmatical method: E(A+B)=E(A)+E(B)='+str(na*pa+nb*pb))\n",
    "print('mathmatical method: V(A+B)=V(A)+V(B)='+str(na*pa*(1-pa)+nb*pb*(1-pb)))\n",
    "\n",
    "#get A+B distribution\n",
    "add_dist=Sum_Binomial(na, pa, nb, pb)\n",
    "\n",
    "#get E(A+B)\n",
    "mu=np.dot(np.arange(len(add_dist)), add_dist)\n",
    "print('computational method: E(A+B)='+str(mu))\n",
    "\n",
    "#get V(A+B)\n",
    "rho=np.dot(np.arange(len(add_dist))**2, add_dist)-mu**2\n",
    "print('computational method: V(A+B)='+str(rho))\n",
    "\n",
    "#plot\n",
    "plt.plot(np.arange(len(add_dist)), add_dist)\n",
    "plt.show()"
   ]
  },
  {
   "cell_type": "code",
   "execution_count": 4,
   "metadata": {},
   "outputs": [],
   "source": [
    "def Binomials(list_n_p):\n",
    "    #list_n_p: 2-dimensioin vector (shape=(n, 2))\n",
    "    #list_n_p[i]: i-th setting for Binomial distribution.\n",
    "    #list_n_p[i, 0]: n of i-th Binomial dist.\n",
    "    #list_n_p[i, 1]: p of i-th Binomial dist.\n",
    "    \n",
    "    print(list_n_p[0])\n",
    "    \n",
    "    hist=Binomial(list_n_p[0])\n",
    "    for i in range(len(list_n_p)-1):\n",
    "        pre_prob=hist\n",
    "        add_prob=Binomial(list_n_p[i+1])\n",
    "\n",
    "        l=np.max([len(pre_prob), len(add_prob)])\n",
    "        mx=len(pre_prob)+len(add_prob)-2\n",
    "\n",
    "        #probability map\n",
    "        prob_map=np.zeros((l, l))\n",
    "        prob_map[:len(pre_prob), :len(add_prob)]=np.dot(np.array(pre_prob).reshape(-1, 1), np.array(add_prob).reshape(1, -1))\n",
    "\n",
    "        #upper-left part of matrix\n",
    "        hist_former=[np.sum([prob_map[i, s-i] for i in range(s+1)]) for s in range(l)]\n",
    "\n",
    "        #lower-right part of matrix\n",
    "        hist_latter=[np.sum([prob_map[-1-i, l-(minus-i)-1] for i in range(minus+1)]) for minus in range(l-1)]\n",
    "\n",
    "        hist=hist_former+hist_latter[::-1]\n",
    "        hist=hist[:mx+1]\n",
    "        \n",
    "    return hist"
   ]
  },
  {
   "cell_type": "code",
   "execution_count": 5,
   "metadata": {},
   "outputs": [
    {
     "name": "stdout",
     "output_type": "stream",
     "text": [
      "mathmatical method: E(A+B+C)=E(A)+E(B)+E(C)=16.6\n",
      "mathmatical method: V(A+B+C)=V(A)+V(B)+V(C)=4.779999999999999\n",
      "[10, 0.8]\n",
      "computational method: E(A+B+C)=16.6\n",
      "computational method: V(A+B+C)=4.779999999999916\n"
     ]
    },
    {
     "data": {
      "image/png": "[encoded data removed]",
      "text/plain": [
       "<matplotlib.figure.Figure at 0x16a12894208>"
      ]
     },
     "metadata": {},
     "output_type": "display_data"
    }
   ],
   "source": [
    "#set parameters\n",
    "na, pa=10, 0.8\n",
    "nb, pb=8, 0.7\n",
    "nc, pc=6, 0.5\n",
    "\n",
    "paramlist=[\n",
    "    [na, pa],\n",
    "    [nb, pb],\n",
    "    [nc, pc]\n",
    "]\n",
    "\n",
    "#get Binomial distribution\n",
    "A=Binomial([na, pa])\n",
    "B=Binomial([nb, pb])\n",
    "C=Binomial([nc, pc])\n",
    "\n",
    "#get E(A+B+C) and V(A+B+C) by mathmatical method\n",
    "print('mathmatical method: E(A+B+C)=E(A)+E(B)+E(C)='+str(na*pa+nb*pb+nc*pc))\n",
    "print('mathmatical method: V(A+B+C)=V(A)+V(B)+V(C)='+str(na*pa*(1-pa)+nb*pb*(1-pb)+nc*pc*(1-pc)))\n",
    "\n",
    "#get A+B+C distribution\n",
    "add_dist=Binomials(paramlist)\n",
    "\n",
    "#get E(A+B+C)\n",
    "mu=np.dot(np.arange(len(add_dist)), add_dist)\n",
    "print('computational method: E(A+B+C)='+str(mu))\n",
    "\n",
    "#get V(A+B+C)\n",
    "rho=np.dot(np.arange(len(add_dist))**2, add_dist)-mu**2\n",
    "print('computational method: V(A+B+C)='+str(rho))\n",
    "\n",
    "#plot\n",
    "plt.plot(np.arange(len(add_dist)), add_dist)\n",
    "plt.show()"
   ]
  },
  {
   "cell_type": "code",
   "execution_count": null,
   "metadata": {},
   "outputs": [],
   "source": []
  }
 ],
 "metadata": {
  "kernelspec": {
   "display_name": "Python 3",
   "language": "python",
   "name": "python3"
  },
  "language_info": {
   "codemirror_mode": {
    "name": "ipython",
    "version": 3
   },
   "file_extension": ".py",
   "mimetype": "text/x-python",
   "name": "python",
   "nbconvert_exporter": "python",
   "pygments_lexer": "ipython3",
   "version": "3.6.4"
  }
 },
 "nbformat": 4,
 "nbformat_minor": 2
}
